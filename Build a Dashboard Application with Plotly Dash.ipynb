{
 "cells": [
  {
   "attachments": {},
   "cell_type": "markdown",
   "metadata": {},
   "source": [
    "### Hands-on Lab: Build an Interactive Dashboard with Ploty Dash"
   ]
  },
  {
   "attachments": {},
   "cell_type": "markdown",
   "metadata": {},
   "source": [
    "Rather than using the provided theiadocker instance that does not persist data, I am adapting the assignment to be run on jupyter notebook, original assignment instructions here: \n",
    "https://cf-courses-data.s3.us.cloud-object-storage.appdomain.cloud/IBM-DS0321EN-SkillsNetwork/labs/module_3/lab_theia_plotly_dash.md.html - brt-h"
   ]
  },
  {
   "cell_type": "code",
   "execution_count": 9,
   "metadata": {},
   "outputs": [
    {
     "name": "stdout",
     "output_type": "stream",
     "text": [
      "Collecting jupyter_dash\n",
      "  Downloading jupyter_dash-0.4.2-py3-none-any.whl (23 kB)\n",
      "Requirement already satisfied: dash in c:\\users\\lenovo\\onedrive\\lib\\site-packages (from jupyter_dash) (2.7.1)\n",
      "Collecting ansi2html\n",
      "  Downloading ansi2html-1.8.0-py3-none-any.whl (16 kB)\n",
      "Requirement already satisfied: nest-asyncio in c:\\users\\lenovo\\onedrive\\lib\\site-packages (from jupyter_dash) (1.5.5)\n",
      "Requirement already satisfied: requests in c:\\users\\lenovo\\onedrive\\lib\\site-packages (from jupyter_dash) (2.28.1)\n",
      "Collecting retrying\n",
      "  Downloading retrying-1.3.4-py3-none-any.whl (11 kB)\n",
      "Requirement already satisfied: ipython in c:\\users\\lenovo\\onedrive\\lib\\site-packages (from jupyter_dash) (8.6.0)\n",
      "Requirement already satisfied: flask in c:\\users\\lenovo\\onedrive\\lib\\site-packages (from jupyter_dash) (1.1.2)\n",
      "Requirement already satisfied: ipykernel in c:\\users\\lenovo\\onedrive\\lib\\site-packages (from jupyter_dash) (6.15.2)\n",
      "Requirement already satisfied: dash-core-components==2.0.0 in c:\\users\\lenovo\\onedrive\\lib\\site-packages (from dash->jupyter_dash) (2.0.0)\n",
      "Requirement already satisfied: dash-html-components==2.0.0 in c:\\users\\lenovo\\onedrive\\lib\\site-packages (from dash->jupyter_dash) (2.0.0)\n",
      "Requirement already satisfied: dash-table==5.0.0 in c:\\users\\lenovo\\onedrive\\lib\\site-packages (from dash->jupyter_dash) (5.0.0)\n",
      "Requirement already satisfied: plotly>=5.0.0 in c:\\users\\lenovo\\onedrive\\lib\\site-packages (from dash->jupyter_dash) (5.10.0)\n",
      "Requirement already satisfied: Jinja2>=2.10.1 in c:\\users\\lenovo\\onedrive\\lib\\site-packages (from flask->jupyter_dash) (2.11.3)\n",
      "Requirement already satisfied: Werkzeug>=0.15 in c:\\users\\lenovo\\onedrive\\lib\\site-packages (from flask->jupyter_dash) (2.0.3)\n",
      "Requirement already satisfied: itsdangerous>=0.24 in c:\\users\\lenovo\\onedrive\\lib\\site-packages (from flask->jupyter_dash) (2.0.1)\n",
      "Requirement already satisfied: click>=5.1 in c:\\users\\lenovo\\onedrive\\lib\\site-packages (from flask->jupyter_dash) (8.0.4)\n",
      "Requirement already satisfied: pyzmq>=17 in c:\\users\\lenovo\\onedrive\\lib\\site-packages (from ipykernel->jupyter_dash) (23.2.0)\n",
      "Requirement already satisfied: packaging in c:\\users\\lenovo\\onedrive\\lib\\site-packages (from ipykernel->jupyter_dash) (21.3)\n",
      "Requirement already satisfied: traitlets>=5.1.0 in c:\\users\\lenovo\\onedrive\\lib\\site-packages (from ipykernel->jupyter_dash) (5.1.1)\n",
      "Requirement already satisfied: debugpy>=1.0 in c:\\users\\lenovo\\onedrive\\lib\\site-packages (from ipykernel->jupyter_dash) (1.5.1)\n",
      "Requirement already satisfied: matplotlib-inline>=0.1 in c:\\users\\lenovo\\onedrive\\lib\\site-packages (from ipykernel->jupyter_dash) (0.1.6)\n",
      "Requirement already satisfied: tornado>=6.1 in c:\\users\\lenovo\\onedrive\\lib\\site-packages (from ipykernel->jupyter_dash) (6.1)\n",
      "Requirement already satisfied: jupyter-client>=6.1.12 in c:\\users\\lenovo\\onedrive\\lib\\site-packages (from ipykernel->jupyter_dash) (6.1.12)\n",
      "Requirement already satisfied: psutil in c:\\users\\lenovo\\onedrive\\lib\\site-packages (from ipykernel->jupyter_dash) (5.9.0)\n",
      "Requirement already satisfied: decorator in c:\\users\\lenovo\\onedrive\\lib\\site-packages (from ipython->jupyter_dash) (5.1.1)\n",
      "Requirement already satisfied: jedi>=0.16 in c:\\users\\lenovo\\onedrive\\lib\\site-packages (from ipython->jupyter_dash) (0.18.1)\n",
      "Requirement already satisfied: stack-data in c:\\users\\lenovo\\onedrive\\lib\\site-packages (from ipython->jupyter_dash) (0.2.0)\n",
      "Requirement already satisfied: pygments>=2.4.0 in c:\\users\\lenovo\\onedrive\\lib\\site-packages (from ipython->jupyter_dash) (2.11.2)\n",
      "Requirement already satisfied: pickleshare in c:\\users\\lenovo\\onedrive\\lib\\site-packages (from ipython->jupyter_dash) (0.7.5)\n",
      "Requirement already satisfied: prompt-toolkit<3.1.0,>3.0.1 in c:\\users\\lenovo\\onedrive\\lib\\site-packages (from ipython->jupyter_dash) (3.0.20)\n",
      "Requirement already satisfied: colorama in c:\\users\\lenovo\\onedrive\\lib\\site-packages (from ipython->jupyter_dash) (0.4.5)\n",
      "Requirement already satisfied: backcall in c:\\users\\lenovo\\onedrive\\lib\\site-packages (from ipython->jupyter_dash) (0.2.0)\n",
      "Requirement already satisfied: idna<4,>=2.5 in c:\\users\\lenovo\\onedrive\\lib\\site-packages (from requests->jupyter_dash) (3.4)\n",
      "Requirement already satisfied: certifi>=2017.4.17 in c:\\users\\lenovo\\onedrive\\lib\\site-packages (from requests->jupyter_dash) (2022.9.24)\n",
      "Requirement already satisfied: charset-normalizer<3,>=2 in c:\\users\\lenovo\\onedrive\\lib\\site-packages (from requests->jupyter_dash) (2.0.4)\n",
      "Requirement already satisfied: urllib3<1.27,>=1.21.1 in c:\\users\\lenovo\\onedrive\\lib\\site-packages (from requests->jupyter_dash) (1.26.12)\n",
      "Requirement already satisfied: six>=1.7.0 in c:\\users\\lenovo\\onedrive\\lib\\site-packages (from retrying->jupyter_dash) (1.16.0)\n",
      "Requirement already satisfied: parso<0.9.0,>=0.8.0 in c:\\users\\lenovo\\onedrive\\lib\\site-packages (from jedi>=0.16->ipython->jupyter_dash) (0.8.3)\n",
      "Requirement already satisfied: MarkupSafe>=0.23 in c:\\users\\lenovo\\onedrive\\lib\\site-packages (from Jinja2>=2.10.1->flask->jupyter_dash) (2.0.1)\n",
      "Requirement already satisfied: python-dateutil>=2.1 in c:\\users\\lenovo\\onedrive\\lib\\site-packages (from jupyter-client>=6.1.12->ipykernel->jupyter_dash) (2.8.2)\n",
      "Requirement already satisfied: jupyter-core>=4.6.0 in c:\\users\\lenovo\\onedrive\\lib\\site-packages (from jupyter-client>=6.1.12->ipykernel->jupyter_dash) (4.11.2)\n",
      "Requirement already satisfied: tenacity>=6.2.0 in c:\\users\\lenovo\\onedrive\\lib\\site-packages (from plotly>=5.0.0->dash->jupyter_dash) (8.0.1)\n",
      "Requirement already satisfied: wcwidth in c:\\users\\lenovo\\onedrive\\lib\\site-packages (from prompt-toolkit<3.1.0,>3.0.1->ipython->jupyter_dash) (0.2.5)\n",
      "Requirement already satisfied: pyparsing!=3.0.5,>=2.0.2 in c:\\users\\lenovo\\onedrive\\lib\\site-packages (from packaging->ipykernel->jupyter_dash) (3.0.9)\n",
      "Requirement already satisfied: executing in c:\\users\\lenovo\\onedrive\\lib\\site-packages (from stack-data->ipython->jupyter_dash) (0.8.3)\n",
      "Requirement already satisfied: asttokens in c:\\users\\lenovo\\onedrive\\lib\\site-packages (from stack-data->ipython->jupyter_dash) (2.0.5)\n",
      "Requirement already satisfied: pure-eval in c:\\users\\lenovo\\onedrive\\lib\\site-packages (from stack-data->ipython->jupyter_dash) (0.2.2)\n",
      "Requirement already satisfied: pywin32>=1.0 in c:\\users\\lenovo\\onedrive\\lib\\site-packages (from jupyter-core>=4.6.0->jupyter-client>=6.1.12->ipykernel->jupyter_dash) (302)\n",
      "Installing collected packages: retrying, ansi2html, jupyter_dash\n",
      "Successfully installed ansi2html-1.8.0 jupyter_dash-0.4.2 retrying-1.3.4\n",
      "^C\n"
     ]
    }
   ],
   "source": [
    "!pip install jupyter_dash"
   ]
  },
  {
   "cell_type": "code",
   "execution_count": 14,
   "metadata": {},
   "outputs": [],
   "source": [
    "import pandas as pd\n",
    "import dash\n",
    "import dash_html_components as html\n",
    "import dash_core_components as dcc\n",
    "from dash.dependencies import Input, Output\n",
    "from jupyter_dash import JupyterDash\n",
    "import plotly.graph_objects as go"
   ]
  },
  {
   "cell_type": "code",
   "execution_count": 15,
   "metadata": {},
   "outputs": [],
   "source": [
    "spacex_df = pd.read_csv('https://cf-courses-data.s3.us.cloud-object-storage.appdomain.cloud/IBM-DS0321EN-SkillsNetwork/datasets/spacex_launch_dash.csv')"
   ]
  },
  {
   "cell_type": "code",
   "execution_count": 17,
   "metadata": {},
   "outputs": [
    {
     "data": {
      "text/html": [
       "\n",
       "        <iframe\n",
       "            width=\"100%\"\n",
       "            height=\"650\"\n",
       "            src=\"http://localhost:8050/\"\n",
       "            frameborder=\"0\"\n",
       "            allowfullscreen\n",
       "            \n",
       "        ></iframe>\n",
       "        "
      ],
      "text/plain": [
       "<IPython.lib.display.IFrame at 0x263a3a1fcd0>"
      ]
     },
     "metadata": {},
     "output_type": "display_data"
    }
   ],
   "source": [
    "# skeleton Dash app to be completed in this lab, downloaded from:\n",
    "# https://cf-courses-data.s3.us.cloud-object-storage.appdomain.cloud/IBM-DS0321EN-SkillsNetwork/labs/module_3/spacex_dash_app.py\n",
    "# redundant lines commented out\n",
    "\n",
    "# Import required libraries\n",
    "# import pandas as pd\n",
    "# import dash\n",
    "# import dash_html_components as html\n",
    "# import dash_core_components as dcc\n",
    "# from dash.dependencies import Input, Output\n",
    "import plotly.express as px\n",
    "\n",
    "# Read the airline data into pandas dataframe\n",
    "# spacex_df = pd.read_csv(\"spacex_launch_dash.csv\")\n",
    "max_payload = spacex_df['Payload Mass (kg)'].max()\n",
    "min_payload = spacex_df['Payload Mass (kg)'].min()\n",
    "\n",
    "# Create a dash application\n",
    "# app = dash.Dash(__name__) # commented out as we are using JupyterDash instead of dash.Dash\n",
    "app = JupyterDash(__name__)\n",
    "\n",
    "# Create an app layout\n",
    "app.layout = html.Div(children=[html.H1('SpaceX Launch Records Dashboard',\n",
    "                                        style={'textAlign': 'center', 'color': '#503D36',\n",
    "                                               'font-size': 40}),\n",
    "                                # TASK 1: Add a dropdown list to enable Launch Site selection\n",
    "                                # The default select value is for ALL sites\n",
    "                                # dcc.Dropdown(id='site-dropdown',...)\n",
    "                                dcc.Dropdown(id='site-dropdown',\n",
    "                                             options=[\n",
    "                                                     {'label': 'All Sites', 'value': 'ALL'},\n",
    "                                                     {'label': 'CCAFS LC-40', 'value': 'CCAFS LC-40'},\n",
    "                                                     {'label': 'VAFB SLC-4E', 'value': 'VAFB SLC-4E'},\n",
    "                                                     {'label': 'KSC LC-39A', 'value': 'KSC LC-39A'},\n",
    "                                                     {'label': 'CCAFS SLC-40', 'value': 'CCAFS SLC-40'}\n",
    "                                                     ],\n",
    "                                             value='ALL',\n",
    "                                             placeholder='Select a Launch Site here',\n",
    "                                             searchable=True\n",
    "                                             # style={'width':'80%','padding':'3px','font-size':'20px','text-align-last':'center'}\n",
    "                                             ),\n",
    "                                html.Br(),\n",
    "\n",
    "                                # TASK 2: Add a pie chart to show the total successful launches count for all sites\n",
    "                                # If a specific launch site was selected, show the Success vs. Failed counts for the site\n",
    "                                html.Div(dcc.Graph(id='success-pie-chart')),\n",
    "                                html.Br(),\n",
    "\n",
    "                                html.P(\"Payload range (Kg):\"),\n",
    "                                # TASK 3: Add a slider to select payload range\n",
    "                                #dcc.RangeSlider(id='payload-slider',...)\n",
    "                                dcc.RangeSlider(id='payload-slider',\n",
    "                                                min=0,\n",
    "                                                max=10000,\n",
    "                                                step=1000,\n",
    "                                                value=[min_payload, max_payload]\n",
    "                                                ),\n",
    "\n",
    "                                # TASK 4: Add a scatter chart to show the correlation between payload and launch success\n",
    "                                html.Div(dcc.Graph(id='success-payload-scatter-chart')),\n",
    "                                ])\n",
    "\n",
    "# TASK 2:\n",
    "# Add a callback function for `site-dropdown` as input, `success-pie-chart` as output\n",
    "@app.callback(Output(component_id='success-pie-chart', component_property='figure'),\n",
    "              Input(component_id='site-dropdown', component_property='value'))\n",
    "def get_pie_chart(entered_site):\n",
    "    filtered_df = spacex_df\n",
    "    if entered_site == 'ALL':\n",
    "        fig = px.pie(filtered_df, values='class', \n",
    "        names='Launch Site', \n",
    "        title='Success Count for all launch sites')\n",
    "        return fig\n",
    "    else:\n",
    "        # return the outcomes piechart for a selected site\n",
    "        filtered_df=spacex_df[spacex_df['Launch Site']== entered_site]\n",
    "        filtered_df=filtered_df.groupby(['Launch Site','class']).size().reset_index(name='class count')\n",
    "        fig=px.pie(filtered_df,values='class count',names='class',title=f\"Total Success Launches for site {entered_site}\")\n",
    "        return fig\n",
    "\n",
    "# TASK 4:\n",
    "# Add a callback function for `site-dropdown` and `payload-slider` as inputs, `success-payload-scatter-chart` as output\n",
    "@app.callback(Output(component_id='success-payload-scatter-chart',component_property='figure'),\n",
    "                [Input(component_id='site-dropdown',component_property='value'),\n",
    "                Input(component_id='payload-slider',component_property='value')])\n",
    "def scatter(entered_site,payload):\n",
    "    filtered_df = spacex_df[spacex_df['Payload Mass (kg)'].between(payload[0],payload[1])]\n",
    "    # thought reusing filtered_df may cause issues, but tried it out of curiosity and it seems to be working fine\n",
    "    \n",
    "    if entered_site=='ALL':\n",
    "        fig=px.scatter(filtered_df,x='Payload Mass (kg)',y='class',color='Booster Version Category',title='Success count on Payload mass for all sites')\n",
    "        return fig\n",
    "    else:\n",
    "        fig=px.scatter(filtered_df[filtered_df['Launch Site']==entered_site],x='Payload Mass (kg)',y='class',color='Booster Version Category',title=f\"Success count on Payload mass for site {entered_site}\")\n",
    "        return fig\n",
    "\n",
    "# Run the app\n",
    "if __name__ == '__main__':\n",
    "    app.run_server(mode='inline', host='localhost')"
   ]
  },
  {
   "cell_type": "code",
   "execution_count": null,
   "metadata": {},
   "outputs": [],
   "source": []
  }
 ],
 "metadata": {
  "kernelspec": {
   "display_name": "base",
   "language": "python",
   "name": "python3"
  },
  "language_info": {
   "codemirror_mode": {
    "name": "ipython",
    "version": 3
   },
   "file_extension": ".py",
   "mimetype": "text/x-python",
   "name": "python",
   "nbconvert_exporter": "python",
   "pygments_lexer": "ipython3",
   "version": "3.9.7 (default, Sep 16 2021, 16:59:28) [MSC v.1916 64 bit (AMD64)]"
  },
  "orig_nbformat": 4,
  "vscode": {
   "interpreter": {
    "hash": "2c39382a7631404f294226b144bdd9efb1f50012011f409c9e73350aec781129"
   }
  }
 },
 "nbformat": 4,
 "nbformat_minor": 2
}
